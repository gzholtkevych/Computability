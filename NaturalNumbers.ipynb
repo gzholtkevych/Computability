{
  "nbformat": 4,
  "nbformat_minor": 0,
  "metadata": {
    "colab": {
      "provenance": [],
      "collapsed_sections": [
        "wMYOZchZFQYh"
      ],
      "toc_visible": true,
      "authorship_tag": "ABX9TyPAYZGAI4Y3tp6vusaSX7oH",
      "include_colab_link": true
    },
    "kernelspec": {
      "name": "python3",
      "display_name": "Python 3"
    },
    "language_info": {
      "name": "python"
    }
  },
  "cells": [
    {
      "cell_type": "markdown",
      "metadata": {
        "id": "view-in-github",
        "colab_type": "text"
      },
      "source": [
        "<a href=\"https://colab.research.google.com/github/gzholtkevych/Computability/blob/main/NaturalNumbers.ipynb\" target=\"_parent\"><img src=\"https://colab.research.google.com/assets/colab-badge.svg\" alt=\"Open In Colab\"/></a>"
      ]
    },
    {
      "cell_type": "markdown",
      "source": [
        "<H1><b>НАТУРАЛЬНІ ЧИСЛА</b></H1>"
      ],
      "metadata": {
        "id": "2hi-17JK_vik"
      }
    },
    {
      "cell_type": "markdown",
      "source": [
        "Цей блокнот описує програмну модель натуральних чисел реалізовану мовою Python3."
      ],
      "metadata": {
        "id": "qhEkkVbfAJ3F"
      }
    },
    {
      "cell_type": "markdown",
      "source": [
        "# Підготовка блокноту до використання"
      ],
      "metadata": {
        "id": "wMYOZchZFQYh"
      }
    },
    {
      "cell_type": "code",
      "execution_count": 1,
      "metadata": {
        "colab": {
          "base_uri": "https://localhost:8080/"
        },
        "id": "ZMmBopIq_lmx",
        "outputId": "917d6bf6-0773-45e5-820d-f112c6443d07"
      },
      "outputs": [
        {
          "output_type": "stream",
          "name": "stdout",
          "text": [
            "Mounted at /content/drive\n"
          ]
        }
      ],
      "source": [
        "from google.colab import drive\n",
        "drive.mount('/content/drive')\n",
        "\n",
        "import sys\n",
        "sys.path.append('/content/drive/MyDrive/ColabNotebooks/Computability')"
      ]
    },
    {
      "cell_type": "markdown",
      "source": [
        "# Визначення натуральних чисел за Пеано"
      ],
      "metadata": {
        "id": "vWstrs9pGH7S"
      }
    },
    {
      "cell_type": "markdown",
      "source": [
        "Множина натуральних чисел (стандартне позначення $\\mathbb{N}$) визначається як найменша множина, що містить спеціальне число $0$ та породжується з нього шляхом послідовного застосування конструктора $\\mathop{succ}$.<br/>\n",
        "Цей конструктор будує наступне натуральне число для вже побудованого.\n",
        "При цьому вважається, що\n",
        "\n",
        "- якщо $\\mathop{succ}(m)=\\mathop{succ}(n)$ для $m,n\\in\\mathbb{N}$, тоді $m=n$;\n",
        "- для жодного $n\\in\\mathbb{N}$ не може бути вірною рівність $\\mathrm{succ}(n)=0$;\n",
        "- для будь-якого предикату $P$, визначеному на натуральних числах, умови\n",
        "    - $P(0)$ є вірним та\n",
        "    - для будь-якого натурального $n$ є вірним $P(n)\\implies P(\\mathop{succ}(n))$\n",
        "\n",
        "  тоді $P$ є тотожньо вірним на натуральних числах.\n",
        "\n",
        "Відомо, що множина натуральних чисел може бути канонічно ототожнена з множиною невід'ємних цілих чисел.\n",
        "\n",
        "При побудові програмної реалізації класу натуральних чисел використовується це канонічне ототожнення для представлення типу натурпльних чисел як підтипу цілих чисел."
      ],
      "metadata": {
        "id": "6Qh4lT2nGWoH"
      }
    },
    {
      "cell_type": "markdown",
      "source": [
        "# Програмна реалізація натуральних чисел"
      ],
      "metadata": {
        "id": "Wrh35M6vF-Ub"
      }
    },
    {
      "cell_type": "markdown",
      "source": [
        "Запрпонована програмна реалізація визначає тип натуральних чисел як клас `nat`, що спадкується від стандартного типу `int`.\n",
        "\n",
        "```python\n",
        "class nat(int):\n",
        "\n",
        "    \"\"\"Representation of a natural number as a positive integer number.\n",
        "\n",
        "    Static attributes:\n",
        "        __used  is a dictionary that contains already created natural numbers.\n",
        "                The key of a number n in that dictionary is str{n}.\n",
        "    \n",
        "    No instance attribute.\n",
        "    \n",
        "    Class methods:\n",
        "        __new__(cls, prototype)  provides coercing a prototype to the type nat.  \n",
        "\n",
        "    Methods:\n",
        "        __eq__(self, another)    provides checking correctly the equality\n",
        "                                 self == another.\n",
        "        __ne__(self, another)    provides checking correctly the inequality\n",
        "                                 self != another.\n",
        "    \"\"\"\n",
        "```"
      ],
      "metadata": {
        "id": "l3iX0fEWK7Kd"
      }
    },
    {
      "cell_type": "markdown",
      "source": [
        "Для запобігання кратного виділення пам'яті для одного й того самого натурального значення використовується словник\n",
        "\n",
        "```python\n",
        "    __used: Dict[str, Self] = {}\n",
        "```\n",
        "\n",
        "В цьому словнику зберігаються створені натуральні числа, при чому натуральне значення `n` поа'язується з ключем `str(n)`."
      ],
      "metadata": {
        "id": "0Ky0vA4nLfhq"
      }
    },
    {
      "cell_type": "markdown",
      "source": [
        "Для забезпечення приведення типу `nat` до типу `int`, запобігання створенню натурального значення у разі, якщо воно вже було створене, а також перевірки невід'ємності значення, для класа `nat` первантажується метод `__new__()`.\n",
        "\n",
        "```python\n",
        "    def __new__(cls, prototype: Any) -> Self:\n",
        "        try:\n",
        "            ix = int(prototype)\n",
        "        except ValueError:\n",
        "            raise ValueError(\"invalid prototype type for nat()\")\n",
        "        if ix < 0:\n",
        "            raise ValueError(\"invalid prototype value for nat()\")\n",
        "        # return super().__new__(cls, ix)\n",
        "        sx = str(ix)  # determine the key of ix\n",
        "        if sx not in nat.__used:\n",
        "            # a natural number is created only if it is not in __used\n",
        "            nat.__used[sx] = super().__new__(cls, ix)\n",
        "        return nat.__used[sx]\n",
        "```"
      ],
      "metadata": {
        "id": "zipzAqjMMskO"
      }
    },
    {
      "cell_type": "markdown",
      "source": [
        "Для запобігання успішного порівняння натуральних значень з цілими перевантажуються методи операторів перевірки на рівність `__eq__()` та нерівність `__ne__()`.\n",
        "\n",
        "```python\n",
        "    def __eq__(self, another: Any) -> bool:\n",
        "        if type(another) != nat:\n",
        "            # two natural numbers can be equal only\n",
        "            return False\n",
        "        return super().__eq__(another)\n",
        "\n",
        "    def __ne__(self, another: Any) -> bool:\n",
        "        return not (self == another)\n",
        "```"
      ],
      "metadata": {
        "id": "DK40xF6NNyG4"
      }
    },
    {
      "cell_type": "markdown",
      "source": [
        "# Властивості типу `nat`"
      ],
      "metadata": {
        "id": "KTu397SEOida"
      }
    },
    {
      "cell_type": "markdown",
      "source": [
        "Імпортуємо клас `nat`."
      ],
      "metadata": {
        "id": "ImQZ6aRkUSmR"
      }
    },
    {
      "cell_type": "code",
      "source": [
        "from compy.nat import nat"
      ],
      "metadata": {
        "id": "IrAg12ouOp0O"
      },
      "execution_count": 2,
      "outputs": []
    },
    {
      "cell_type": "markdown",
      "source": [
        "Однакові натуральні значення розміщаються в пам'яті за однією адресою."
      ],
      "metadata": {
        "id": "6sRNaeWXPVVX"
      }
    },
    {
      "cell_type": "code",
      "source": [
        "m, n = nat(5), nat(' 5')\n",
        "print(f\"'n is m' is {n is m}\")"
      ],
      "metadata": {
        "id": "EzDwYYepPBCZ",
        "colab": {
          "base_uri": "https://localhost:8080/"
        },
        "outputId": "0da8c999-2001-4653-bc73-edad4ecc21c6"
      },
      "execution_count": 3,
      "outputs": [
        {
          "output_type": "stream",
          "name": "stdout",
          "text": [
            "'n is m' is True\n"
          ]
        }
      ]
    },
    {
      "cell_type": "markdown",
      "source": [
        "Зрозуміло вони пр цьому є рівними."
      ],
      "metadata": {
        "id": "yoNtWgJvPo_C"
      }
    },
    {
      "cell_type": "code",
      "source": [
        "print(f\"'m == n' is {m == n}\")"
      ],
      "metadata": {
        "id": "z3ln4X2BPtpS",
        "colab": {
          "base_uri": "https://localhost:8080/"
        },
        "outputId": "0402619c-7712-41ca-e668-7df3086d0e5a"
      },
      "execution_count": 4,
      "outputs": [
        {
          "output_type": "stream",
          "name": "stdout",
          "text": [
            "'m == n' is True\n"
          ]
        }
      ]
    },
    {
      "cell_type": "markdown",
      "source": [
        "Конструктор запобігає створенню некоректних натуральних значень."
      ],
      "metadata": {
        "id": "R1-CYWtSP_c7"
      }
    },
    {
      "cell_type": "code",
      "source": [
        "try:\n",
        "    p = nat('2a3')\n",
        "except ValueError as ex:\n",
        "    print(f\"Помилка: {ex}\")\n",
        "\n",
        "try:\n",
        "    p = nat(-10)\n",
        "except ValueError as ex:\n",
        "    print(f\"Помилка: {ex}\")"
      ],
      "metadata": {
        "id": "6GmWgWdhQI3I",
        "colab": {
          "base_uri": "https://localhost:8080/"
        },
        "outputId": "6aa8c09f-0b93-44c1-e687-80582368db37"
      },
      "execution_count": 6,
      "outputs": [
        {
          "output_type": "stream",
          "name": "stdout",
          "text": [
            "Помилка: bad prototype for nat()\n",
            "Помилка: invalid prototype value for nat()\n"
          ]
        }
      ]
    },
    {
      "cell_type": "markdown",
      "source": [
        "Одне й те саме значення не є рівним собі, якщо при порівнянні воно розглядається як ціле та натуральне."
      ],
      "metadata": {
        "id": "I7jwrChBS0_6"
      }
    },
    {
      "cell_type": "code",
      "source": [
        "m = 5\n",
        "n = nat(n)\n",
        "print(f\"'m == n' is {m == n}\")"
      ],
      "metadata": {
        "colab": {
          "base_uri": "https://localhost:8080/"
        },
        "id": "NJ_WCHHjTTWP",
        "outputId": "67a77306-d5f2-4d6b-fd80-9b795d955582"
      },
      "execution_count": 9,
      "outputs": [
        {
          "output_type": "stream",
          "name": "stdout",
          "text": [
            "'m == n' is False\n"
          ]
        }
      ]
    }
  ]
}